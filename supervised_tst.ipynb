{
 "cells": [
  {
   "cell_type": "code",
   "execution_count": 1,
   "metadata": {},
   "outputs": [],
   "source": [
    "import pandas as pd\n",
    "import numpy as np\n",
    "import matplotlib.pyplot as plt\n",
    "import seaborn as sns\n",
    "import warnings\n",
    "from sklearn.model_selection import train_test_split\n",
    "from sklearn.ensemble import RandomForestRegressor\n",
    "from sklearn.metrics import mean_squared_error\n",
    "\n",
    "warnings.filterwarnings('ignore')\n",
    "\n",
    "\n",
    "np.random.seed(0)\n",
    "data_size = 500\n",
    "data = {\n",
    "    'WallArea': np.random.randint(200, 400, data_size),\n",
    "    'RoofArea': np.random.randint(100, 200, data_size),\n",
    "    'OverallHeight': np.random.uniform(3, 10, data_size),\n",
    "    'GlazingArea': np.random.uniform(0, 1, data_size),\n",
    "    'EnergyEfficiency': np.random.uniform(10, 50, data_size)  \n",
    "}\n",
    "df = pd.DataFrame(data)\n"
   ]
  },
  {
   "cell_type": "code",
   "execution_count": 2,
   "metadata": {},
   "outputs": [
    {
     "data": {
      "text/html": [
       "<div>\n",
       "<style scoped>\n",
       "    .dataframe tbody tr th:only-of-type {\n",
       "        vertical-align: middle;\n",
       "    }\n",
       "\n",
       "    .dataframe tbody tr th {\n",
       "        vertical-align: top;\n",
       "    }\n",
       "\n",
       "    .dataframe thead th {\n",
       "        text-align: right;\n",
       "    }\n",
       "</style>\n",
       "<table border=\"1\" class=\"dataframe\">\n",
       "  <thead>\n",
       "    <tr style=\"text-align: right;\">\n",
       "      <th></th>\n",
       "      <th>WallArea</th>\n",
       "      <th>RoofArea</th>\n",
       "      <th>OverallHeight</th>\n",
       "      <th>GlazingArea</th>\n",
       "      <th>EnergyEfficiency</th>\n",
       "    </tr>\n",
       "  </thead>\n",
       "  <tbody>\n",
       "    <tr>\n",
       "      <th>0</th>\n",
       "      <td>372</td>\n",
       "      <td>135</td>\n",
       "      <td>4.824401</td>\n",
       "      <td>0.164319</td>\n",
       "      <td>18.700166</td>\n",
       "    </tr>\n",
       "    <tr>\n",
       "      <th>1</th>\n",
       "      <td>247</td>\n",
       "      <td>183</td>\n",
       "      <td>9.097578</td>\n",
       "      <td>0.893773</td>\n",
       "      <td>11.748627</td>\n",
       "    </tr>\n",
       "    <tr>\n",
       "      <th>2</th>\n",
       "      <td>317</td>\n",
       "      <td>176</td>\n",
       "      <td>4.255870</td>\n",
       "      <td>0.575062</td>\n",
       "      <td>33.839428</td>\n",
       "    </tr>\n",
       "    <tr>\n",
       "      <th>3</th>\n",
       "      <td>392</td>\n",
       "      <td>118</td>\n",
       "      <td>6.032951</td>\n",
       "      <td>0.256768</td>\n",
       "      <td>31.640361</td>\n",
       "    </tr>\n",
       "    <tr>\n",
       "      <th>4</th>\n",
       "      <td>267</td>\n",
       "      <td>174</td>\n",
       "      <td>5.275825</td>\n",
       "      <td>0.236790</td>\n",
       "      <td>26.259739</td>\n",
       "    </tr>\n",
       "  </tbody>\n",
       "</table>\n",
       "</div>"
      ],
      "text/plain": [
       "   WallArea  RoofArea  OverallHeight  GlazingArea  EnergyEfficiency\n",
       "0       372       135       4.824401     0.164319         18.700166\n",
       "1       247       183       9.097578     0.893773         11.748627\n",
       "2       317       176       4.255870     0.575062         33.839428\n",
       "3       392       118       6.032951     0.256768         31.640361\n",
       "4       267       174       5.275825     0.236790         26.259739"
      ]
     },
     "execution_count": 2,
     "metadata": {},
     "output_type": "execute_result"
    }
   ],
   "source": [
    "df.head(5)"
   ]
  },
  {
   "cell_type": "code",
   "execution_count": 8,
   "metadata": {},
   "outputs": [],
   "source": [
    "# Data Preprocessing \n",
    "X = df.drop(\"EnergyEfficiency\", axis=1)\n",
    "y = [\"EnergyEfficiency\"]"
   ]
  },
  {
   "cell_type": "code",
   "execution_count": 9,
   "metadata": {},
   "outputs": [
    {
     "ename": "AttributeError",
     "evalue": "'list' object has no attribute 'info'",
     "output_type": "error",
     "traceback": [
      "\u001b[0;31m---------------------------------------------------------------------------\u001b[0m",
      "\u001b[0;31mAttributeError\u001b[0m                            Traceback (most recent call last)",
      "Cell \u001b[0;32mIn[9], line 1\u001b[0m\n\u001b[0;32m----> 1\u001b[0m \u001b[43my\u001b[49m\u001b[38;5;241;43m.\u001b[39;49m\u001b[43minfo\u001b[49m()\n",
      "\u001b[0;31mAttributeError\u001b[0m: 'list' object has no attribute 'info'"
     ]
    }
   ],
   "source": [
    "y.info()"
   ]
  }
 ],
 "metadata": {
  "kernelspec": {
   "display_name": "Python 3",
   "language": "python",
   "name": "python3"
  },
  "language_info": {
   "codemirror_mode": {
    "name": "ipython",
    "version": 3
   },
   "file_extension": ".py",
   "mimetype": "text/x-python",
   "name": "python",
   "nbconvert_exporter": "python",
   "pygments_lexer": "ipython3",
   "version": "3.12.5"
  }
 },
 "nbformat": 4,
 "nbformat_minor": 2
}
